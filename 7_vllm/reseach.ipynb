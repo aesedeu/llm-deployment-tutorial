{
 "cells": [
  {
   "cell_type": "code",
   "execution_count": 2,
   "id": "f1bc83be",
   "metadata": {},
   "outputs": [
    {
     "name": "stdout",
     "output_type": "stream",
     "text": [
      " the trouble was inevitable. In the beginning there was no control of the home. When the ground was in disrepair the local army started to attack, leading to widespread disorder. The military command of the country was in constant danger. They were in no"
     ]
    }
   ],
   "source": [
    "# инференс в vllm\n",
    "import grpc\n",
    "import llm_pb2, llm_pb2_grpc\n",
    "\n",
    "\n",
    "def run():\n",
    "    channel = grpc.insecure_channel(\"localhost:50051\")\n",
    "    stub = llm_pb2_grpc.LLMServiceStub(channel)\n",
    "\n",
    "    request = llm_pb2.GenerateRequest(\n",
    "        prompt=\"Once upon a time\", max_tokens=50, temperature=0.8\n",
    "    )\n",
    "\n",
    "    for response in stub.GenerateText(request):\n",
    "        print(response.token, end=\"\", flush=True)\n",
    "\n",
    "run()"
   ]
  }
 ],
 "metadata": {
  "kernelspec": {
   "display_name": ".venv",
   "language": "python",
   "name": "python3"
  },
  "language_info": {
   "codemirror_mode": {
    "name": "ipython",
    "version": 3
   },
   "file_extension": ".py",
   "mimetype": "text/x-python",
   "name": "python",
   "nbconvert_exporter": "python",
   "pygments_lexer": "ipython3",
   "version": "3.11.12"
  }
 },
 "nbformat": 4,
 "nbformat_minor": 5
}
