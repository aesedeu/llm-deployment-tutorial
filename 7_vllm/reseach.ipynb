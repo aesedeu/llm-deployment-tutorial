{
 "cells": [
  {
   "cell_type": "code",
   "execution_count": 6,
   "id": "f1bc83be",
   "metadata": {},
   "outputs": [
    {
     "ename": "_MultiThreadedRendezvous",
     "evalue": "<_MultiThreadedRendezvous of RPC that terminated with:\n\tstatus = StatusCode.UNAVAILABLE\n\tdetails = \"failed to connect to all addresses; last error: UNAVAILABLE: ipv6:%5B::1%5D:50051: FD shutdown\"\n\tdebug_error_string = \"UNKNOWN:Error received from peer  {created_time:\"2025-05-28T22:47:32.627837+03:00\", grpc_status:14, grpc_message:\"failed to connect to all addresses; last error: UNAVAILABLE: ipv6:%5B::1%5D:50051: FD shutdown\"}\"\n>",
     "output_type": "error",
     "traceback": [
      "\u001b[31m---------------------------------------------------------------------------\u001b[39m",
      "\u001b[31m_MultiThreadedRendezvous\u001b[39m                  Traceback (most recent call last)",
      "\u001b[36mCell\u001b[39m\u001b[36m \u001b[39m\u001b[32mIn[6]\u001b[39m\u001b[32m, line 17\u001b[39m\n\u001b[32m     14\u001b[39m     \u001b[38;5;28;01mfor\u001b[39;00m response \u001b[38;5;129;01min\u001b[39;00m stub.GenerateText(request):\n\u001b[32m     15\u001b[39m         \u001b[38;5;28mprint\u001b[39m(response.token, end=\u001b[33m\"\u001b[39m\u001b[33m\"\u001b[39m, flush=\u001b[38;5;28;01mTrue\u001b[39;00m)\n\u001b[32m---> \u001b[39m\u001b[32m17\u001b[39m \u001b[43mrun\u001b[49m\u001b[43m(\u001b[49m\u001b[43m)\u001b[49m\n",
      "\u001b[36mCell\u001b[39m\u001b[36m \u001b[39m\u001b[32mIn[6]\u001b[39m\u001b[32m, line 14\u001b[39m, in \u001b[36mrun\u001b[39m\u001b[34m()\u001b[39m\n\u001b[32m      8\u001b[39m stub = llm_pb2_grpc.LLMServiceStub(channel)\n\u001b[32m     10\u001b[39m request = llm_pb2.GenerateRequest(\n\u001b[32m     11\u001b[39m     prompt=\u001b[33m\"\u001b[39m\u001b[33mOnce upon a time\u001b[39m\u001b[33m\"\u001b[39m, max_tokens=\u001b[32m256\u001b[39m, temperature=\u001b[32m0.9\u001b[39m\n\u001b[32m     12\u001b[39m )\n\u001b[32m---> \u001b[39m\u001b[32m14\u001b[39m \u001b[43m\u001b[49m\u001b[38;5;28;43;01mfor\u001b[39;49;00m\u001b[43m \u001b[49m\u001b[43mresponse\u001b[49m\u001b[43m \u001b[49m\u001b[38;5;129;43;01min\u001b[39;49;00m\u001b[43m \u001b[49m\u001b[43mstub\u001b[49m\u001b[43m.\u001b[49m\u001b[43mGenerateText\u001b[49m\u001b[43m(\u001b[49m\u001b[43mrequest\u001b[49m\u001b[43m)\u001b[49m\u001b[43m:\u001b[49m\n\u001b[32m     15\u001b[39m \u001b[43m    \u001b[49m\u001b[38;5;28;43mprint\u001b[39;49m\u001b[43m(\u001b[49m\u001b[43mresponse\u001b[49m\u001b[43m.\u001b[49m\u001b[43mtoken\u001b[49m\u001b[43m,\u001b[49m\u001b[43m \u001b[49m\u001b[43mend\u001b[49m\u001b[43m=\u001b[49m\u001b[33;43m\"\u001b[39;49m\u001b[33;43m\"\u001b[39;49m\u001b[43m,\u001b[49m\u001b[43m \u001b[49m\u001b[43mflush\u001b[49m\u001b[43m=\u001b[49m\u001b[38;5;28;43;01mTrue\u001b[39;49;00m\u001b[43m)\u001b[49m\n",
      "\u001b[36mFile \u001b[39m\u001b[32m~/Desktop/docker_llm_webinar/.venv/lib/python3.11/site-packages/grpc/_channel.py:543\u001b[39m, in \u001b[36m_Rendezvous.__next__\u001b[39m\u001b[34m(self)\u001b[39m\n\u001b[32m    542\u001b[39m \u001b[38;5;28;01mdef\u001b[39;00m\u001b[38;5;250m \u001b[39m\u001b[34m__next__\u001b[39m(\u001b[38;5;28mself\u001b[39m):\n\u001b[32m--> \u001b[39m\u001b[32m543\u001b[39m     \u001b[38;5;28;01mreturn\u001b[39;00m \u001b[38;5;28;43mself\u001b[39;49m\u001b[43m.\u001b[49m\u001b[43m_next\u001b[49m\u001b[43m(\u001b[49m\u001b[43m)\u001b[49m\n",
      "\u001b[36mFile \u001b[39m\u001b[32m~/Desktop/docker_llm_webinar/.venv/lib/python3.11/site-packages/grpc/_channel.py:969\u001b[39m, in \u001b[36m_MultiThreadedRendezvous._next\u001b[39m\u001b[34m(self)\u001b[39m\n\u001b[32m    967\u001b[39m     \u001b[38;5;28;01mraise\u001b[39;00m \u001b[38;5;167;01mStopIteration\u001b[39;00m()\n\u001b[32m    968\u001b[39m \u001b[38;5;28;01melif\u001b[39;00m \u001b[38;5;28mself\u001b[39m._state.code \u001b[38;5;129;01mis\u001b[39;00m \u001b[38;5;129;01mnot\u001b[39;00m \u001b[38;5;28;01mNone\u001b[39;00m:\n\u001b[32m--> \u001b[39m\u001b[32m969\u001b[39m     \u001b[38;5;28;01mraise\u001b[39;00m \u001b[38;5;28mself\u001b[39m\n",
      "\u001b[31m_MultiThreadedRendezvous\u001b[39m: <_MultiThreadedRendezvous of RPC that terminated with:\n\tstatus = StatusCode.UNAVAILABLE\n\tdetails = \"failed to connect to all addresses; last error: UNAVAILABLE: ipv6:%5B::1%5D:50051: FD shutdown\"\n\tdebug_error_string = \"UNKNOWN:Error received from peer  {created_time:\"2025-05-28T22:47:32.627837+03:00\", grpc_status:14, grpc_message:\"failed to connect to all addresses; last error: UNAVAILABLE: ipv6:%5B::1%5D:50051: FD shutdown\"}\"\n>"
     ]
    }
   ],
   "source": [
    "# инференс в vllm через grpc\n",
    "import grpc\n",
    "import llm_pb2, llm_pb2_grpc\n",
    "\n",
    "\n",
    "def run():\n",
    "    channel = grpc.insecure_channel(\"localhost:50051\")\n",
    "    stub = llm_pb2_grpc.LLMServiceStub(channel)\n",
    "\n",
    "    request = llm_pb2.GenerateRequest(\n",
    "        prompt=\"Once upon a time\", max_tokens=256, temperature=0.9\n",
    "    )\n",
    "\n",
    "    for response in stub.GenerateText(request):\n",
    "        print(response.token, end=\"\", flush=True)\n",
    "\n",
    "run()"
   ]
  },
  {
   "cell_type": "code",
   "execution_count": 16,
   "id": "6f94bd46",
   "metadata": {},
   "outputs": [
    {
     "data": {
      "text/plain": [
       "<Response [200]>"
      ]
     },
     "execution_count": 16,
     "metadata": {},
     "output_type": "execute_result"
    }
   ],
   "source": [
    "requests.get(\"http://localhost:80\")"
   ]
  },
  {
   "cell_type": "code",
   "execution_count": 17,
   "id": "279837a3",
   "metadata": {},
   "outputs": [
    {
     "name": "stdout",
     "output_type": "stream",
     "text": [
      ", a world without monsters was a world of peace and blessings. The sun shone brightly, the trees keeled over gracefully, and the creatures roamed freely. But one day, a group of monsters breathed their malevolent breath. They became increasingly bold, and soon, they were wreaking havoc all around. The innocent townspeople tried everything they could to defeat the monsters, but none worked. With no other choice, they decided to call on their greatest weapon — themselves. With their strength and might, they united, formed an army of monsters, and drove the monsters from the town. This world is now defined by a world of war and chaos. Neither humans nor monsters can trust one another. The peaceful world has given way to a world of terror, insanity, and chaos. Humans are strangers to one another, fending off monsters in fear. Elves and dwarves have lost their ways and now live in isolation, while goblins and trolls roam their land, both pitted against each other. The once magnificent creatures of nature are now mere prey to the powerful beasts\n"
     ]
    }
   ],
   "source": [
    "# инференс в vllm через api\n",
    "import requests\n",
    "\n",
    "url = \"http://localhost:8080/v1/completions\"\n",
    "payload = {\n",
    "    \"prompt\": \"Once upon a time\",\n",
    "    \"temperature\": 0.9,\n",
    "    \"max_tokens\": 256,\n",
    "    \"stream\": False\n",
    "}\n",
    "\n",
    "response = requests.post(url, json=payload, stream=False)\n",
    "print(response.json()[\"choices\"][0][\"text\"])"
   ]
  }
 ],
 "metadata": {
  "kernelspec": {
   "display_name": ".venv",
   "language": "python",
   "name": "python3"
  },
  "language_info": {
   "codemirror_mode": {
    "name": "ipython",
    "version": 3
   },
   "file_extension": ".py",
   "mimetype": "text/x-python",
   "name": "python",
   "nbconvert_exporter": "python",
   "pygments_lexer": "ipython3",
   "version": "3.11.12"
  }
 },
 "nbformat": 4,
 "nbformat_minor": 5
}
