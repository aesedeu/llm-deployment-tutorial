{
 "cells": [
  {
   "cell_type": "code",
   "execution_count": 14,
   "id": "f1bc83be",
   "metadata": {},
   "outputs": [
    {
     "name": "stdout",
     "output_type": "stream",
     "text": [
      " the problem of gluten intolerance was well and truly understood, and therefore everything about gluten intolerance was supercharged by therapy with the belief that having a gluten-free diet was all that even carrying on our normal celiac sensitivity.\n",
      "\n",
      "I think as I discuss this with this Unica, we need to understand what the implications of our gluten intolerance are.\n",
      "\n",
      "Is It Worth a Shot?\n",
      "\n",
      "We know that we are universally lovable, so it makes sense that we would at least want to do a shot at cuddling. But enjoying a fair amount of comfort is fine. There is a significant difference between immersion and swimming in water without shoes.\n",
      "\n",
      "But what about people that don't need shoes and practice walking in the water without shoes? One could argue that if we don't want to slip into life of gluten intolerance and wonder whether we would ever go into the water without shoes, then we should just try to find new foods for our bodies and eat what is okay.\n",
      "\n",
      "Finally, there is the only thing that will be even better for people that don't need the shoes, and besides with a few important caveats, I am not a medical professional, so I'm not sure at this point what particular benefits of this effort to win over the likes"
     ]
    }
   ],
   "source": [
    "# инференс в vllm через grpc\n",
    "import grpc\n",
    "import llm_pb2, llm_pb2_grpc\n",
    "\n",
    "\n",
    "def run():\n",
    "    channel = grpc.insecure_channel(\"localhost:50051\")\n",
    "    stub = llm_pb2_grpc.LLMServiceStub(channel)\n",
    "\n",
    "    request = llm_pb2.GenerateRequest(\n",
    "        prompt=\"Once upon a time\", max_tokens=256, temperature=0.9\n",
    "    )\n",
    "\n",
    "    for response in stub.GenerateText(request):\n",
    "        print(response.token, end=\"\", flush=True)\n",
    "\n",
    "run()"
   ]
  },
  {
   "cell_type": "code",
   "execution_count": 16,
   "id": "279837a3",
   "metadata": {},
   "outputs": [
    {
     "name": "stdout",
     "output_type": "stream",
     "text": [
      " Stanley Kubrick's films were awarded Oscar buzzy honors, he spent much of his series revising, saving or changing parts of his script to keep things interesting or to make him feel less like a total hater. Here's what he had to say:\n",
      "\n",
      "\"It's a powerful film, really one that catches the highest marks in every category. It's this mixture of grit and lightness of purpose in all the characters and good humour in the way that we get to see them each other all the time. It's not just a good film, it's the same thing. It's the interplay between a lot of characters that is part of the same thing.\"\n",
      "\n",
      "During Kubrick's time as a film critic, he penned a column about The Shining that was specifically about Kubrick's master project. That piece's title came from one of his longtime collaborators, the writer and editor of The Shining. His time with Kubrick wound up with a hefty third novel (weddily son of a Hollywood businessman) that he got to write, better known as \"The House,\" but then the piece was released as a book. Since then, it has influenced so much that we were thrilled to hear about the writer.\n",
      "\n",
      "Here's how \"The House\" covered\n"
     ]
    }
   ],
   "source": [
    "# инференс в vllm через api\n",
    "import requests\n",
    "\n",
    "url = \"http://localhost:8080/v1/completions\"\n",
    "payload = {\n",
    "    \"prompt\": \"Once upon a time\",\n",
    "    \"temperature\": 0.9,\n",
    "    \"max_tokens\": 256,\n",
    "    \"stream\": False\n",
    "}\n",
    "\n",
    "response = requests.post(url, json=payload, stream=False)\n",
    "print(response.json()[\"choices\"][0][\"text\"])"
   ]
  }
 ],
 "metadata": {
  "kernelspec": {
   "display_name": ".venv",
   "language": "python",
   "name": "python3"
  },
  "language_info": {
   "codemirror_mode": {
    "name": "ipython",
    "version": 3
   },
   "file_extension": ".py",
   "mimetype": "text/x-python",
   "name": "python",
   "nbconvert_exporter": "python",
   "pygments_lexer": "ipython3",
   "version": "3.11.12"
  }
 },
 "nbformat": 4,
 "nbformat_minor": 5
}
