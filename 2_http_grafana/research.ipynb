{
 "cells": [
  {
   "cell_type": "markdown",
   "id": "4f37fdc2",
   "metadata": {},
   "source": [
    "# dummy classic ml model"
   ]
  },
  {
   "cell_type": "code",
   "execution_count": 2,
   "id": "d28ddd7f",
   "metadata": {},
   "outputs": [],
   "source": [
    "from sklearn.datasets import make_regression\n",
    "from sklearn.linear_model import LinearRegression\n",
    "import joblib\n",
    "\n",
    "X, y = make_regression(1000, 3)\n",
    "\n",
    "model = LinearRegression().fit(X, y)"
   ]
  },
  {
   "cell_type": "code",
   "execution_count": 3,
   "id": "d3ba6ead",
   "metadata": {},
   "outputs": [
    {
     "data": {
      "text/plain": [
       "array([255.04404929])"
      ]
     },
     "execution_count": 3,
     "metadata": {},
     "output_type": "execute_result"
    }
   ],
   "source": [
    "model.predict([[1,2,3]])"
   ]
  },
  {
   "cell_type": "code",
   "execution_count": 5,
   "id": "df8098b8",
   "metadata": {},
   "outputs": [
    {
     "data": {
      "text/plain": [
       "['grpc/model.joblib']"
      ]
     },
     "execution_count": 5,
     "metadata": {},
     "output_type": "execute_result"
    }
   ],
   "source": [
    "# классическое сохранение в joblib\n",
    "joblib.dump(model, \"model.joblib\")\n",
    "\n",
    "# загрузка из joblib\n",
    "# joblib.load(\"model.joblib\")"
   ]
  },
  {
   "cell_type": "markdown",
   "id": "afdabb89",
   "metadata": {},
   "source": [
    "# http request"
   ]
  },
  {
   "cell_type": "code",
   "execution_count": 1,
   "id": "d86b54f0",
   "metadata": {},
   "outputs": [
    {
     "data": {
      "text/plain": [
       "{'detail': 255.0440492889483}"
      ]
     },
     "execution_count": 1,
     "metadata": {},
     "output_type": "execute_result"
    }
   ],
   "source": [
    "import requests\n",
    "\n",
    "r = requests.post(\n",
    "    url=\"http://localhost:8080/classic\",\n",
    "    json={\"a\": 1, \"b\": 2, \"c\": 3},\n",
    "    params={\"model_name\": \"classic_model\", \"model_version\": 1}\n",
    ")\n",
    "\n",
    "r.json()"
   ]
  },
  {
   "cell_type": "code",
   "execution_count": 3,
   "id": "283991ac",
   "metadata": {},
   "outputs": [],
   "source": [
    "for _ in range(10):\n",
    "    r = requests.post(url=\"http://localhost:8080/classic\", json={\"a\":2, \"b\": 2000, \"c\": 10})\n",
    "    r.json()"
   ]
  },
  {
   "cell_type": "code",
   "execution_count": null,
   "id": "1a556a28",
   "metadata": {},
   "outputs": [],
   "source": []
  },
  {
   "cell_type": "code",
   "execution_count": null,
   "id": "722570ac",
   "metadata": {},
   "outputs": [],
   "source": []
  },
  {
   "cell_type": "code",
   "execution_count": null,
   "id": "3f30d435",
   "metadata": {},
   "outputs": [],
   "source": []
  }
 ],
 "metadata": {
  "kernelspec": {
   "display_name": "Python 3",
   "language": "python",
   "name": "python3"
  },
  "language_info": {
   "codemirror_mode": {
    "name": "ipython",
    "version": 3
   },
   "file_extension": ".py",
   "mimetype": "text/x-python",
   "name": "python",
   "nbconvert_exporter": "python",
   "pygments_lexer": "ipython3",
   "version": "3.11.12"
  }
 },
 "nbformat": 4,
 "nbformat_minor": 5
}
