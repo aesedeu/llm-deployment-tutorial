{
 "cells": [
  {
   "cell_type": "code",
   "execution_count": 1,
   "id": "f1bc83be",
   "metadata": {},
   "outputs": [
    {
     "name": "stdout",
     "output_type": "stream",
     "text": [
      " in America,\n",
      "Abracadabra\n",
      "Once upon a time in America, whenever they sing,\n",
      "The people just come alive,\n",
      "Thunderous claps, and an awesome symphony,\n",
      "The people just come alive.\n",
      "\n",
      "Chorus:\n",
      "Once upon a time in America, Abracadabra\n",
      "Once upon a time in America,\n",
      "The beat goes on and on,\n",
      "Though we are now old,\n",
      "\n",
      "Verse 2:\n",
      "They've got to be jacks\n",
      "Of horsey backs,\n",
      "Gypsies and beggars\n",
      "With everything they've got.\n",
      "\n",
      "Chorus:\n",
      "Once upon a time in America, Abracadabra\n",
      "Once upon a time in America,\n",
      "The beat goes on and on,\n",
      "Though we are now old,\n",
      "\n",
      "Verse 3:\n",
      "For the boys and girls\n",
      "All living in poverty,\n",
      "They'll look for a better life,\n",
      "They'll look for a gold vein,\n",
      "\n",
      "Chorus:\n",
      "Once upon a time in America, Abracadabra\n",
      "Once upon a time in America,\n",
      "The beat goes on and on,\n",
      "Though we are now old,\n",
      "\n"
     ]
    }
   ],
   "source": [
    "# инференс в vllm через grpc\n",
    "import grpc\n",
    "import llm_pb2, llm_pb2_grpc\n",
    "\n",
    "\n",
    "def run():\n",
    "    channel = grpc.insecure_channel(\"localhost:50051\")\n",
    "    stub = llm_pb2_grpc.LLMServiceStub(channel)\n",
    "\n",
    "    request = llm_pb2.GenerateRequest(\n",
    "        prompt=\"Once upon a time\", max_tokens=256, temperature=0.9\n",
    "    )\n",
    "\n",
    "    for response in stub.GenerateText(request):\n",
    "        print(response.token, end=\"\", flush=True)\n",
    "\n",
    "run()"
   ]
  },
  {
   "cell_type": "code",
   "execution_count": 3,
   "id": "6f94bd46",
   "metadata": {},
   "outputs": [
    {
     "data": {
      "text/plain": [
       "<Response [200]>"
      ]
     },
     "execution_count": 3,
     "metadata": {},
     "output_type": "execute_result"
    }
   ],
   "source": [
    "import requests\n",
    "\n",
    "requests.get(\"http://localhost:80\")"
   ]
  },
  {
   "cell_type": "code",
   "execution_count": 17,
   "id": "279837a3",
   "metadata": {},
   "outputs": [
    {
     "name": "stdout",
     "output_type": "stream",
     "text": [
      ", a world without monsters was a world of peace and blessings. The sun shone brightly, the trees keeled over gracefully, and the creatures roamed freely. But one day, a group of monsters breathed their malevolent breath. They became increasingly bold, and soon, they were wreaking havoc all around. The innocent townspeople tried everything they could to defeat the monsters, but none worked. With no other choice, they decided to call on their greatest weapon — themselves. With their strength and might, they united, formed an army of monsters, and drove the monsters from the town. This world is now defined by a world of war and chaos. Neither humans nor monsters can trust one another. The peaceful world has given way to a world of terror, insanity, and chaos. Humans are strangers to one another, fending off monsters in fear. Elves and dwarves have lost their ways and now live in isolation, while goblins and trolls roam their land, both pitted against each other. The once magnificent creatures of nature are now mere prey to the powerful beasts\n"
     ]
    }
   ],
   "source": [
    "# инференс через api vLLM\n",
    "import requests\n",
    "\n",
    "url = \"http://localhost:8080/v1/completions\"\n",
    "payload = {\n",
    "    \"prompt\": \"Once upon a time\",\n",
    "    \"temperature\": 0.9,\n",
    "    \"max_tokens\": 256,\n",
    "    \"stream\": False\n",
    "}\n",
    "\n",
    "response = requests.post(url, json=payload, stream=False)\n",
    "print(response.json()[\"choices\"][0][\"text\"])"
   ]
  }
 ],
 "metadata": {
  "kernelspec": {
   "display_name": ".venv",
   "language": "python",
   "name": "python3"
  },
  "language_info": {
   "codemirror_mode": {
    "name": "ipython",
    "version": 3
   },
   "file_extension": ".py",
   "mimetype": "text/x-python",
   "name": "python",
   "nbconvert_exporter": "python",
   "pygments_lexer": "ipython3",
   "version": "3.11.12"
  }
 },
 "nbformat": 4,
 "nbformat_minor": 5
}
