{
 "cells": [
  {
   "cell_type": "code",
   "execution_count": 1,
   "id": "f1bc83be",
   "metadata": {},
   "outputs": [
    {
     "name": "stdout",
     "output_type": "stream",
     "text": [
      " in America,\n",
      "Abracadabra\n",
      "Once upon a time in America, whenever they sing,\n",
      "The people just come alive,\n",
      "Thunderous claps, and an awesome symphony,\n",
      "The people just come alive.\n",
      "\n",
      "Chorus:\n",
      "Once upon a time in America, Abracadabra\n",
      "Once upon a time in America,\n",
      "The beat goes on and on,\n",
      "Though we are now old,\n",
      "\n",
      "Verse 2:\n",
      "They've got to be jacks\n",
      "Of horsey backs,\n",
      "Gypsies and beggars\n",
      "With everything they've got.\n",
      "\n",
      "Chorus:\n",
      "Once upon a time in America, Abracadabra\n",
      "Once upon a time in America,\n",
      "The beat goes on and on,\n",
      "Though we are now old,\n",
      "\n",
      "Verse 3:\n",
      "For the boys and girls\n",
      "All living in poverty,\n",
      "They'll look for a better life,\n",
      "They'll look for a gold vein,\n",
      "\n",
      "Chorus:\n",
      "Once upon a time in America, Abracadabra\n",
      "Once upon a time in America,\n",
      "The beat goes on and on,\n",
      "Though we are now old,\n",
      "\n"
     ]
    }
   ],
   "source": [
    "# инференс в vllm через grpc\n",
    "import grpc\n",
    "import llm_pb2, llm_pb2_grpc\n",
    "\n",
    "\n",
    "def run():\n",
    "    channel = grpc.insecure_channel(\"localhost:50051\")\n",
    "    stub = llm_pb2_grpc.LLMServiceStub(channel)\n",
    "\n",
    "    request = llm_pb2.GenerateRequest(\n",
    "        prompt=\"Once upon a time\", max_tokens=256, temperature=0.9\n",
    "    )\n",
    "\n",
    "    for response in stub.GenerateText(request):\n",
    "        print(response.token, end=\"\", flush=True)\n",
    "\n",
    "run()"
   ]
  },
  {
   "cell_type": "code",
   "execution_count": 3,
   "id": "6f94bd46",
   "metadata": {},
   "outputs": [
    {
     "data": {
      "text/plain": [
       "<Response [200]>"
      ]
     },
     "execution_count": 3,
     "metadata": {},
     "output_type": "execute_result"
    }
   ],
   "source": [
    "import requests\n",
    "\n",
    "requests.get(\"http://localhost:80\")"
   ]
  },
  {
   "cell_type": "code",
   "execution_count": null,
   "id": "279837a3",
   "metadata": {},
   "outputs": [
    {
     "name": "stdout",
     "output_type": "stream",
     "text": [
      ", there were people who lived in a castle that stood on a small island in the middle of a vast lake that was always covered by snow. The castle was guarded by a very old and powerful wizard who was known for his incredible spell casting abilities. The wizard cast three powerful spells that would bind all of the people on the island to one another, making them as one. But, the curse caused everyone to forget their unique personalities, beliefs, and desires. The evil sorcerer, who believed the rules were meant to be broken, became a part of the people of the island. He found pleasure in manipulating the people and using their newfound collective bond to his own advantage. Everyone was happily married, and there was no room for passion, love, or individuality. But, one day, the wizard cast his final spell, binding everyone together and freeing them from the curse. The people on the island became completely divorced from one another. Nobody knew anything about their pasts, their dreams, or their fears. They became one person and had one goal, which was to rule the island. The wizard, who had always been known for his kindness and\n"
     ]
    }
   ],
   "source": [
    "# инференс через api vLLM\n",
    "import requests\n",
    "\n",
    "url = \"http://localhost:8080/v1/completions\"\n",
    "payload = {\n",
    "    \"prompt\": \"Once upon a time\",\n",
    "    \"temperature\": 0.9,\n",
    "    \"max_tokens\": 256,\n",
    "    \"stream\": False\n",
    "}\n",
    "\n",
    "response = requests.post(url, json=payload, stream=False)\n",
    "print(response.json()[\"choices\"][0][\"text\"])"
   ]
  }
 ],
 "metadata": {
  "kernelspec": {
   "display_name": "Python 3",
   "language": "python",
   "name": "python3"
  },
  "language_info": {
   "codemirror_mode": {
    "name": "ipython",
    "version": 3
   },
   "file_extension": ".py",
   "mimetype": "text/x-python",
   "name": "python",
   "nbconvert_exporter": "python",
   "pygments_lexer": "ipython3",
   "version": "3.11.12"
  }
 },
 "nbformat": 4,
 "nbformat_minor": 5
}
